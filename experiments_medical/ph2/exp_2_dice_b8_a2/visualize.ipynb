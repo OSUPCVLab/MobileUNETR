{
 "cells": [
  {
   "cell_type": "code",
   "execution_count": 1,
   "metadata": {},
   "outputs": [],
   "source": [
    "import os\n",
    "import sys\n",
    "\n",
    "sys.path.append(\"../../../\")\n",
    "\n",
    "import yaml\n",
    "import torch\n",
    "from typing import Dict\n",
    "from architectures.build_architecture import build_architecture\n",
    "from dataloaders.build_dataset import build_dataset\n",
    "from torchvision.utils import save_image"
   ]
  },
  {
   "cell_type": "code",
   "execution_count": 2,
   "metadata": {},
   "outputs": [],
   "source": [
    "def load_config(config_path: str) -> Dict:\n",
    "    \"\"\"loads the yaml config file\n",
    "\n",
    "    Args:\n",
    "        config_path (str): _description_\n",
    "\n",
    "    Returns:\n",
    "        Dict: _description_\n",
    "    \"\"\"\n",
    "    with open(config_path, \"r\") as file:\n",
    "        config = yaml.safe_load(file)\n",
    "    return config"
   ]
  },
  {
   "cell_type": "code",
   "execution_count": 3,
   "metadata": {},
   "outputs": [],
   "source": [
    "config = load_config(\"config.yaml\")"
   ]
  },
  {
   "cell_type": "markdown",
   "metadata": {},
   "source": [
    "Set Up"
   ]
  },
  {
   "cell_type": "code",
   "execution_count": 4,
   "metadata": {},
   "outputs": [],
   "source": [
    "model = build_architecture(config=config)\n",
    "checkpoint = torch.load(\"pytorch_model.bin\", map_location=\"cpu\")\n",
    "model.load_state_dict(checkpoint)\n",
    "model = model.to(\"cpu\")\n",
    "model = model.eval()"
   ]
  },
  {
   "cell_type": "code",
   "execution_count": 5,
   "metadata": {},
   "outputs": [],
   "source": [
    "# build validation dataset & validataion data loader\n",
    "valset = build_dataset(\n",
    "    dataset_type=config[\"dataset_parameters\"][\"dataset_type\"],\n",
    "    dataset_args=config[\"dataset_parameters\"][\"val_dataset_args\"],\n",
    "    augmentation_args=config[\"test_augmentation_args\"],\n",
    ")\n",
    "testloader = torch.utils.data.DataLoader(\n",
    "    valset, batch_size=1, shuffle=False, num_workers=1\n",
    ")"
   ]
  },
  {
   "cell_type": "markdown",
   "metadata": {},
   "source": [
    "Inference"
   ]
  },
  {
   "cell_type": "code",
   "execution_count": 6,
   "metadata": {},
   "outputs": [],
   "source": [
    "if not os.path.isdir(\"predictions\"):\n",
    "    os.makedirs(\"predictions/rgb\")\n",
    "    os.makedirs(\"predictions/gt\")\n",
    "    os.makedirs(\"predictions/pred\")"
   ]
  },
  {
   "cell_type": "code",
   "execution_count": 7,
   "metadata": {},
   "outputs": [
    {
     "name": "stdout",
     "output_type": "stream",
     "text": [
      "torch.Size([1, 3, 512, 512])\n",
      "torch.Size([1, 3, 512, 512])\n",
      "torch.Size([1, 3, 512, 512])\n",
      "torch.Size([1, 3, 512, 512])\n",
      "torch.Size([1, 3, 512, 512])\n",
      "torch.Size([1, 3, 512, 512])\n",
      "torch.Size([1, 3, 512, 512])\n",
      "torch.Size([1, 3, 512, 512])\n",
      "torch.Size([1, 3, 512, 512])\n",
      "torch.Size([1, 3, 512, 512])\n",
      "torch.Size([1, 3, 512, 512])\n",
      "torch.Size([1, 3, 512, 512])\n",
      "torch.Size([1, 3, 512, 512])\n",
      "torch.Size([1, 3, 512, 512])\n",
      "torch.Size([1, 3, 512, 512])\n",
      "torch.Size([1, 3, 512, 512])\n",
      "torch.Size([1, 3, 512, 512])\n",
      "torch.Size([1, 3, 512, 512])\n",
      "torch.Size([1, 3, 512, 512])\n",
      "torch.Size([1, 3, 512, 512])\n",
      "torch.Size([1, 3, 512, 512])\n",
      "torch.Size([1, 3, 512, 512])\n",
      "torch.Size([1, 3, 512, 512])\n",
      "torch.Size([1, 3, 512, 512])\n",
      "torch.Size([1, 3, 512, 512])\n",
      "torch.Size([1, 3, 512, 512])\n",
      "torch.Size([1, 3, 512, 512])\n",
      "torch.Size([1, 3, 512, 512])\n",
      "torch.Size([1, 3, 512, 512])\n",
      "torch.Size([1, 3, 512, 512])\n",
      "torch.Size([1, 3, 512, 512])\n",
      "torch.Size([1, 3, 512, 512])\n",
      "torch.Size([1, 3, 512, 512])\n",
      "torch.Size([1, 3, 512, 512])\n",
      "torch.Size([1, 3, 512, 512])\n",
      "torch.Size([1, 3, 512, 512])\n",
      "torch.Size([1, 3, 512, 512])\n",
      "torch.Size([1, 3, 512, 512])\n",
      "torch.Size([1, 3, 512, 512])\n",
      "torch.Size([1, 3, 512, 512])\n",
      "torch.Size([1, 3, 512, 512])\n",
      "torch.Size([1, 3, 512, 512])\n",
      "torch.Size([1, 3, 512, 512])\n",
      "torch.Size([1, 3, 512, 512])\n",
      "torch.Size([1, 3, 512, 512])\n",
      "torch.Size([1, 3, 512, 512])\n",
      "torch.Size([1, 3, 512, 512])\n",
      "torch.Size([1, 3, 512, 512])\n",
      "torch.Size([1, 3, 512, 512])\n",
      "torch.Size([1, 3, 512, 512])\n",
      "torch.Size([1, 3, 512, 512])\n",
      "torch.Size([1, 3, 512, 512])\n",
      "torch.Size([1, 3, 512, 512])\n",
      "torch.Size([1, 3, 512, 512])\n",
      "torch.Size([1, 3, 512, 512])\n",
      "torch.Size([1, 3, 512, 512])\n",
      "torch.Size([1, 3, 512, 512])\n",
      "torch.Size([1, 3, 512, 512])\n",
      "torch.Size([1, 3, 512, 512])\n",
      "torch.Size([1, 3, 512, 512])\n",
      "torch.Size([1, 3, 512, 512])\n",
      "torch.Size([1, 3, 512, 512])\n",
      "torch.Size([1, 3, 512, 512])\n",
      "torch.Size([1, 3, 512, 512])\n",
      "torch.Size([1, 3, 512, 512])\n",
      "torch.Size([1, 3, 512, 512])\n",
      "torch.Size([1, 3, 512, 512])\n",
      "torch.Size([1, 3, 512, 512])\n",
      "torch.Size([1, 3, 512, 512])\n",
      "torch.Size([1, 3, 512, 512])\n",
      "torch.Size([1, 3, 512, 512])\n",
      "torch.Size([1, 3, 512, 512])\n",
      "torch.Size([1, 3, 512, 512])\n",
      "torch.Size([1, 3, 512, 512])\n",
      "torch.Size([1, 3, 512, 512])\n",
      "torch.Size([1, 3, 512, 512])\n",
      "torch.Size([1, 3, 512, 512])\n",
      "torch.Size([1, 3, 512, 512])\n",
      "torch.Size([1, 3, 512, 512])\n",
      "torch.Size([1, 3, 512, 512])\n"
     ]
    }
   ],
   "source": [
    "model.eval()\n",
    "counter = 4000\n",
    "for idx, data in enumerate(testloader):\n",
    "    image = data[\"image\"].cuda()\n",
    "    mask = data[\"mask\"].cuda()\n",
    "    out = model.forward(image)\n",
    "    out = torch.sigmoid(out)\n",
    "    out[out < 0.5] = 0\n",
    "    out[out >= 0.5] = 1\n",
    "\n",
    "    # rgb input\n",
    "    img = data[\"image\"]\n",
    "    img = img.detach()\n",
    "    print(img.shape)\n",
    "    img[:, 0, :, :] = (img[:, 0, :, :] * 0.1577) + 0.7128\n",
    "    img[:, 1, :, :] = (img[:, 1, :, :] * 0.1662) + 0.6000\n",
    "    img[:, 2, :, :] = (img[:, 2, :, :] * 0.1829) + 0.5532\n",
    "    save_image(img, f\"predictions/rgb/image_{idx}.png\")\n",
    "\n",
    "    # prediction\n",
    "    pred = out.detach()\n",
    "    pred = pred * 255.0\n",
    "    save_image(pred, f\"predictions/pred/pred_{idx}.png\")\n",
    "\n",
    "    # ground truth\n",
    "    gt = data[\"mask\"]\n",
    "    gt = gt.detach()\n",
    "    gt = gt * 255.0\n",
    "    save_image(gt, f\"predictions/gt/gt_{idx}.png\")\n",
    "\n",
    "    if idx == counter:\n",
    "        break"
   ]
  },
  {
   "cell_type": "markdown",
   "metadata": {},
   "source": [
    "Save RGB, GT and Pred"
   ]
  },
  {
   "cell_type": "code",
   "execution_count": 14,
   "metadata": {},
   "outputs": [],
   "source": [
    "# # RGB INPUT\n",
    "\n",
    "# img = data[\"image\"]\n",
    "# img = img.detach()\n",
    "# print(img.shape)\n",
    "# img[:, 0, :, :] = (img[:, 0, :, :] * 0.1577) + 0.7128\n",
    "# img[:, 1, :, :] = (img[:, 1, :, :] * 0.1662) + 0.6000\n",
    "# img[:, 2, :, :] = (img[:, 2, :, :] * 0.1829) + 0.5532\n",
    "# save_image(img, f\"predictions/rgb/image_{idx}.png\")"
   ]
  },
  {
   "cell_type": "code",
   "execution_count": 15,
   "metadata": {},
   "outputs": [],
   "source": [
    "# # PREDICTION\n",
    "\n",
    "# pred = out.detach()\n",
    "# pred = pred * 255.0\n",
    "# save_image(pred, f\"predictions/pred/pred_{idx}.png\")"
   ]
  },
  {
   "cell_type": "code",
   "execution_count": 16,
   "metadata": {},
   "outputs": [],
   "source": [
    "# # GROUND TRUTH\n",
    "\n",
    "# gt = data[1]\n",
    "# gt = gt.detach()\n",
    "# gt = gt * 255.0\n",
    "# save_image(gt, f\"predictions/gt/gt_{idx}.png\")"
   ]
  },
  {
   "cell_type": "code",
   "execution_count": null,
   "metadata": {},
   "outputs": [],
   "source": []
  }
 ],
 "metadata": {
  "kernelspec": {
   "display_name": "corev2",
   "language": "python",
   "name": "python3"
  },
  "language_info": {
   "codemirror_mode": {
    "name": "ipython",
    "version": 3
   },
   "file_extension": ".py",
   "mimetype": "text/x-python",
   "name": "python",
   "nbconvert_exporter": "python",
   "pygments_lexer": "ipython3",
   "version": "3.11.7"
  }
 },
 "nbformat": 4,
 "nbformat_minor": 2
}
